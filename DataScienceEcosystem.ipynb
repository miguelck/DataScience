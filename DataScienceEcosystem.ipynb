{
 "cells": [
  {
   "cell_type": "markdown",
   "id": "f1987ff8-f16a-4020-b4fd-86a81a53d6c1",
   "metadata": {},
   "source": [
    "# Test Jupyter Notebook\n",
    "# First Title (H1)"
   ]
  },
  {
   "cell_type": "markdown",
   "id": "288e2ba8-34c4-40f0-991a-e2420a683643",
   "metadata": {},
   "source": [
    "## In this notebook, Data Science Tools and Ecosystem are summarized."
   ]
  },
  {
   "cell_type": "markdown",
   "id": "9477e05e-159d-40bb-bf77-19ffae4e72ce",
   "metadata": {},
   "source": [
    "### ***The objectives achieved in this course were***\n",
    "  + Create Markdown cells with different character sizes and different formats.\n",
    "  + Create Markdown cells with bullets and tables.\n",
    "  + Create code cells with arithmetic operations"
   ]
  },
  {
   "cell_type": "markdown",
   "id": "7b7f75ea-c00d-4011-951b-29291e1fe118",
   "metadata": {},
   "source": [
    "### Some of the popular languages that Data Scientists use are:\n",
    "1. Python\n",
    "2. R\n",
    "3. SQL\n",
    "4. Java\n",
    "5. C y C++\n",
    "6. Scala"
   ]
  },
  {
   "cell_type": "markdown",
   "id": "c0c51429-71d8-4a54-8bba-71e07bf24548",
   "metadata": {},
   "source": [
    "### Some of the commonly used libraries used by Data Scientists include:\n",
    "- NumPy\n",
    "- Pandas\n",
    "- Matplotlib\n",
    "- Scikit-Learn\n",
    "- TensorFlow"
   ]
  },
  {
   "cell_type": "markdown",
   "id": "890fb08c-ef7a-4e3b-b981-be799606b515",
   "metadata": {},
   "source": [
    "### Some of the commonly tools used in Data Scientists are:\n",
    "| Name of Tool |\n",
    "| -------------|\n",
    "| Tableau |\n",
    "| Apache Spark |\n",
    "| Apache Hadoop |"
   ]
  },
  {
   "cell_type": "markdown",
   "id": "8e221748-09e3-4761-baf5-90b024fe8bb9",
   "metadata": {},
   "source": [
    "### Below are a few examples of evaluating arithmetic expressions in Python.\n",
    "\n",
    "- x = 27\n",
    "- y = 12\n",
    "    + add = x + y\n",
    "    + sub = x - y\n",
    "    + pro = x * y\n",
    "    + div = x / yx / y \n"
   ]
  },
  {
   "cell_type": "code",
   "execution_count": 16,
   "id": "ce4e7c1f-09d9-4062-b71c-0d8fb0465d2e",
   "metadata": {},
   "outputs": [
    {
     "name": "stdout",
     "output_type": "stream",
     "text": [
      "12\n",
      "40\n",
      "529\n"
     ]
    }
   ],
   "source": [
    "# This a simple arithmeticexpression to mutiply then add integers.\n",
    "a = 5 + 7\n",
    "b = 5 * 8\n",
    "c = (3 * 4) + 517\n",
    "print(a)\n",
    "print(b)\n",
    "print(c)"
   ]
  },
  {
   "cell_type": "code",
   "execution_count": 18,
   "id": "2556db57-1492-4c14-943e-dcb9226e690a",
   "metadata": {},
   "outputs": [
    {
     "data": {
      "text/plain": [
       "3.3333333333333335"
      ]
     },
     "execution_count": 18,
     "metadata": {},
     "output_type": "execute_result"
    }
   ],
   "source": [
    "# This will convert 200 minutes to hours by diving by 60\n",
    "200 / 60"
   ]
  },
  {
   "cell_type": "markdown",
   "id": "8d0b4e35-eb6e-4a97-989b-ba880dda0027",
   "metadata": {},
   "source": [
    "## Author\n",
    "### Miguel Ángel De Almeida Matas"
   ]
  }
 ],
 "metadata": {
  "kernelspec": {
   "display_name": "Python 3 (ipykernel)",
   "language": "python",
   "name": "python3"
  },
  "language_info": {
   "codemirror_mode": {
    "name": "ipython",
    "version": 3
   },
   "file_extension": ".py",
   "mimetype": "text/x-python",
   "name": "python",
   "nbconvert_exporter": "python",
   "pygments_lexer": "ipython3",
   "version": "3.12.4"
  }
 },
 "nbformat": 4,
 "nbformat_minor": 5
}
